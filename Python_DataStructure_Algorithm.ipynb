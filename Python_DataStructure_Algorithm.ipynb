{
 "cells": [
  {
   "cell_type": "markdown",
   "metadata": {},
   "source": [
    "# Part 1. Introduction\n",
    "\n",
    "## Built-in Data Types\n",
    "    - Integer\n",
    "    - Float\n",
    "    - List\n",
    "    - Tuple\n",
    "    - String\n",
    "    - Set\n",
    "    - Dictionary"
   ]
  },
  {
   "cell_type": "code",
   "execution_count": 3,
   "metadata": {
    "collapsed": false
   },
   "outputs": [
    {
     "name": "stdout",
     "output_type": "stream",
     "text": [
      ">> a =  [1024, 3, True, 6.5]\n",
      ">> a.append(4): append to the end\n",
      "None\n",
      ">> a\n",
      "[1024, 3, True, 6.5, 4]\n",
      ">> a.pop(): pop the last one\n",
      "4\n",
      ">> a\n",
      "[1024, 3, True, 6.5]\n",
      ">> a.pop(1): pop the ith item: \n",
      "3\n",
      ">> a\n",
      "[1024, True, 6.5]\n",
      ">> a.sort(): sorted a in ascending order:\n",
      "None\n",
      ">> a\n",
      "[True, 6.5, 1024]\n",
      ">> a.reverse(): reversed a: \n",
      "None\n",
      ">> a\n",
      "[1024, 6.5, True]\n",
      ">> a*2 \n",
      "[1024, 6.5, True, 1024, 6.5, True]\n",
      ">> del a[2]\n",
      "\n",
      ">> a\n",
      "[1024, 6.5, 1024, 6.5, True]\n",
      ">> a.index(6.5): return the index of first item 6.5:\n",
      "1\n",
      ">> a.remove(6.5): remove the first 6.5:  None\n",
      ">> a\n",
      "[1024, 1024, 6.5, True]\n",
      ">> a.count(1024): count number of items:\n",
      "  2\n",
      ">> a.insert(4, False): count number of items:\n",
      "None\n",
      ">> a\n",
      "[1024, 1024, 6.5, True, False]\n"
     ]
    }
   ],
   "source": [
    "a = [1024, 3, True, 6.5]\n",
    "print \">> a = \", a\n",
    "\n",
    "print \">> a.append(4): append to the end\\n\", a.append(4)\n",
    "print \">> a\\n\", a\n",
    "print \">> a.pop(): pop the last one\\n\", a.pop()\n",
    "print \">> a\\n\", a\n",
    "print \">> a.pop(1): pop the ith item: \\n\", a.pop(1)\n",
    "print \">> a\\n\", a\n",
    "print \">> a.sort(): sorted a in ascending order:\\n\", a.sort()\n",
    "print \">> a\\n\", a\n",
    "print \">> a.reverse(): reversed a: \\n\", a.reverse()\n",
    "print \">> a\\n\", a\n",
    "a = a*2\n",
    "print \">> a*2 \\n\", a\n",
    "print \">> del a[2]\\n\"\n",
    "del a[2]\n",
    "print \">> a\\n\", a\n",
    "print \">> a.index(6.5): return the index of first item 6.5:\\n\", a.index(6.5)\n",
    "\n",
    "print \">> a.remove(6.5): remove the first 6.5: \", a.remove(6.5)\n",
    "print \">> a\\n\", a\n",
    "print \">> a.count(1024): count number of items:\\n \", a.count(1024)\n",
    "\n",
    "print \">> a.insert(4, False): count number of items:\\n\", a.insert(4, False)\n",
    "print \">> a\\n\", a"
   ]
  },
  {
   "cell_type": "code",
   "execution_count": 4,
   "metadata": {
    "collapsed": false
   },
   "outputs": [
    {
     "name": "stdout",
     "output_type": "stream",
     "text": [
      "a=\"MyName\"\n",
      "a[2]= N\n",
      "a[-2]= m\n",
      "a[:-2]= MyNa\n",
      "a.center(12): \"   MyName   \"\n",
      "a.rjust(12): \"      MyName\"\n",
      "a.ljust(12): \"MyName      \"\n",
      "a.upper(): \"MYNAME\"\n",
      "a.lower(): \"myname\"\n",
      "a=\"MyName\"\n",
      "a.count('m'):  1\n",
      "a.find('m'):  4\n",
      "a.split('N'): ['My', 'ame']\n"
     ]
    }
   ],
   "source": [
    "a = \"MyName\"\n",
    "print \"a=\\\"%s\\\"\" % a\n",
    "print \"a[2]=\", a[2]\n",
    "print \"a[-2]=\", a[-2]\n",
    "print \"a[:-2]=\", a[:-2]\n",
    "print \"a.center(12): \\\"%s\\\"\" % a.center(12)\n",
    "print \"a.rjust(12): \\\"%s\\\"\" % a.rjust(12)\n",
    "print \"a.ljust(12): \\\"%s\\\"\" % a.ljust(12)\n",
    "print \"a.upper(): \\\"%s\\\"\" % a.upper()\n",
    "print \"a.lower(): \\\"%s\\\"\" % a.lower()\n",
    "print \"a=\\\"%s\\\"\" % a\n",
    "print \"a.count('m'): \", a.count('m')\n",
    "print \"a.find('m'): \", a.find('m')\n",
    "print \"a.split('N'):\", a.split('N')"
   ]
  },
  {
   "cell_type": "code",
   "execution_count": 52,
   "metadata": {
    "collapsed": false
   },
   "outputs": [
    {
     "name": "stdout",
     "output_type": "stream",
     "text": [
      "(3, 6, 'cat', 4.5, False)\n",
      "set([False, 4.5, 3, 6, 'cat'])\n"
     ]
    }
   ],
   "source": [
    "# tuple is a collection of items \n",
    "# you cannot change it\n",
    "myTuple = (3,6,\"cat\",4.5,False)\n",
    "print myTuple\n",
    "\n",
    "# set is a a collection of distinct items\n",
    "mySet = {3,6,\"cat\",4.5,False, 6}\n",
    "print mySet"
   ]
  },
  {
   "cell_type": "markdown",
   "metadata": {},
   "source": [
    "## Input and Output"
   ]
  },
  {
   "cell_type": "code",
   "execution_count": 58,
   "metadata": {
    "collapsed": false
   },
   "outputs": [
    {
     "name": "stdout",
     "output_type": "stream",
     "text": [
      "Please enter your name:\"xiang cheng\"\n",
      "xiang cheng\n"
     ]
    }
   ],
   "source": [
    "Name = input(\"Please enter your name:\")\n",
    "print Name"
   ]
  },
  {
   "cell_type": "code",
   "execution_count": 60,
   "metadata": {
    "collapsed": false
   },
   "outputs": [
    {
     "name": "stdout",
     "output_type": "stream",
     "text": [
      "Hello 123 #######\n"
     ]
    }
   ],
   "source": [
    "print \"Hello\", \"123\", \"#######\""
   ]
  },
  {
   "cell_type": "code",
   "execution_count": 74,
   "metadata": {
    "collapsed": false
   },
   "outputs": [
    {
     "data": {
      "text/plain": [
       "[1, 8, 23, 46, 77]"
      ]
     },
     "execution_count": 74,
     "metadata": {},
     "output_type": "execute_result"
    }
   ],
   "source": [
    "f = lambda x: x**2 + 1.5*x + 1.\n",
    "[int(f(x)) for x in xrange(10) if x%2==0]"
   ]
  },
  {
   "cell_type": "code",
   "execution_count": 83,
   "metadata": {
    "collapsed": false
   },
   "outputs": [
    {
     "data": {
      "text/plain": [
       "10"
      ]
     },
     "execution_count": 83,
     "metadata": {},
     "output_type": "execute_result"
    }
   ],
   "source": [
    "import random\n",
    "random.randrange(27)"
   ]
  },
  {
   "cell_type": "markdown",
   "metadata": {},
   "source": [
    "### Object-Oriented Programming: Class\n",
    "\n",
    "    - Fraction\n",
    "    - Logic Gates"
   ]
  },
  {
   "cell_type": "code",
   "execution_count": 116,
   "metadata": {
    "collapsed": false
   },
   "outputs": [
    {
     "name": "stdout",
     "output_type": "stream",
     "text": [
      " test = Fraction(3, -5)\n",
      "type(test):  <type 'instance'>\n",
      "Print test:  -3/5\n",
      "test.show():  -3/5\n",
      "type(test).__str__(test)： -3/5\n",
      "Greatest common divisor gcd(36, 16): 4\n",
      "Fraction(6, 10) + Fraction(1/3):  14/15\n",
      "Fraction(6, 10) == Fraction(3, 5):  True\n",
      "Fraction(1, 2) == Fraction(3, 5):  False\n",
      "Fraction(2, 4) * Fraction(3, 5):  3/10\n",
      "Fraction(2, 4) / Fraction(3, 5):  5/6\n",
      "\n",
      "x = Fraction(123, -321) \n",
      "x.getNum():-41 \n",
      "y.getDen():107\n",
      "x = Fraction(1, 2) \n",
      "y = Fraction(1, 3)\n",
      "x > y ---> True\n",
      "x >= y ---> True\n",
      "x < y ---> False\n",
      "x <= y ---> False\n",
      "x != y ---> True\n",
      "sign(2): 1 \n",
      "sign(-10):-1\n"
     ]
    }
   ],
   "source": [
    "# greatest common divisor\n",
    "def gcd(a, b):\n",
    "    while b:\n",
    "        a, b = b, a%b\n",
    "    return a\n",
    "\n",
    "# sign\n",
    "def sign(a):\n",
    "    return ( (a>0) - (a<0) )\n",
    "\n",
    "class Fraction:\n",
    "    def __init__(self, top, bottom):\n",
    "        if type(top) != int or type(bottom) != int:\n",
    "            raise ValueError(\"Both numerator and denominator should be integer!\")\n",
    "        commonDiv = gcd(top, bottom)\n",
    "        self.num = top//commonDiv\n",
    "        self.den = bottom//commonDiv\n",
    "        \n",
    "        \n",
    "    def __str__(self):\n",
    "        return (\"%d/%d\" % (self.num, self.den))\n",
    "    \n",
    "    def getNum(self):\n",
    "        return self.num\n",
    "    \n",
    "    def getDen(self):\n",
    "        return self.den\n",
    "        \n",
    "    def __add__(self, other):\n",
    "        newNum = self.num*other.den + self.den*other.num\n",
    "        newDen = self.den * other.den\n",
    "        return Fraction(newNum, newDen)\n",
    "    \n",
    "    def __sub__(self, other):\n",
    "        newNum = self.num*other.den - self.den*other.num\n",
    "        newDen = self.den * other.den\n",
    "        return Fraction(newNum, newDen)\n",
    "    \n",
    "    def __eq__(self, other):\n",
    "        e1 = self.num * other.den\n",
    "        e2 = self.den * other.num\n",
    "        return e1==e2\n",
    "    \n",
    "    def __mul__(self, other):\n",
    "        top = self.num * other.num\n",
    "        bottom = self.den * other.den\n",
    "        return Fraction(top,bottom)\n",
    "    \n",
    "    def __div__(self, other):\n",
    "        top = self.num * other.den\n",
    "        bottom = self.den * other.num\n",
    "        return Fraction(top,bottom)\n",
    "    \n",
    "    def __gt__(self, other):\n",
    "        temp = self - other\n",
    "        return sign(temp.den)==sign(temp.num)\n",
    "    \n",
    "    def __ge__(self, other):\n",
    "        temp = self - other\n",
    "        return(sign(temp.num)==0 or sign(temp.den)==sign(temp.num))\n",
    "    \n",
    "    def __lt__(self, other):\n",
    "        temp = other - self\n",
    "        return sign(temp.num)==sign(temp.den)\n",
    "\n",
    "    \n",
    "    def __le__(self, other):\n",
    "        temp = other - self\n",
    "        return( sign(temp.num)==0 or sign(temp.den)==sign(temp.num) )\n",
    "    \n",
    "    def __ne__(self, other):\n",
    "        a = self.num*other.den\n",
    "        b = self.den*other.num\n",
    "        return a!=b\n",
    "        \n",
    "    def show(self):\n",
    "        print self.__str__()\n",
    "        \n",
    "\n",
    "\n",
    "    \n",
    "test = Fraction(3, -5)\n",
    "print \"test = Fraction(3, -5)\"\n",
    "print \"type(test): \", type(test)\n",
    "print \"Print test: \", test\n",
    "print \"test.show(): \",\n",
    "test.show()\n",
    "print \"type(test).__str__(test)：\", type(test).__str__(test)\n",
    "print \"Greatest common divisor gcd(36, 16):\", gcd(36, 16)\n",
    "print \"Fraction(6, 10) + Fraction(1/3): \", Fraction(6, 10)+Fraction(1, 3)\n",
    "print \"Fraction(6, 10) == Fraction(3, 5): \", Fraction(6, 10)==Fraction(3, 5)\n",
    "print \"Fraction(1, 2) == Fraction(3, 5): \", Fraction(1, 2)==Fraction(3, 5)\n",
    "print \"Fraction(2, 4) * Fraction(3, 5): \", Fraction(2, 4)*Fraction(3, 5)\n",
    "print \"Fraction(2, 4) / Fraction(3, 5): \", Fraction(2, 4)/Fraction(3, 5)\n",
    "x = Fraction(123, -321)\n",
    "print \"\\nx = Fraction(123, -321) \\nx.getNum():%d \\ny.getDen():%d\" % (x.getNum(), x.getDen())\n",
    "x = Fraction(1, 2)\n",
    "y = Fraction(1, 3)\n",
    "print \"x = Fraction(1, 2) \\ny = Fraction(1, 3)\"\n",
    "print \"x > y --->\", x>y\n",
    "print \"x >= y --->\", x>=y\n",
    "print \"x < y --->\", x<y\n",
    "print \"x <= y --->\", x<=y\n",
    "print \"x != y --->\", x!=y\n",
    "\n",
    "print \"sign(2): %d \\nsign(-10):%d\" % (sign(2), sign(-10))"
   ]
  },
  {
   "cell_type": "markdown",
   "metadata": {},
   "source": [
    "### Object-Oriented Programming: Class Inheritance "
   ]
  },
  {
   "cell_type": "code",
   "execution_count": 79,
   "metadata": {
    "collapsed": false
   },
   "outputs": [
    {
     "name": "stdout",
     "output_type": "stream",
     "text": [
      "Enter Pin A for gate G1--->1\n",
      "Enter Pin B for gate G1--->0\n",
      "Enter Pin B for gate G2--->0\n",
      "Enter Pin B for gate G3--->1\n",
      "Output of circuit ---> 0\n"
     ]
    }
   ],
   "source": [
    "# parent class\n",
    "class LogicGate:\n",
    "    def __init__(self, n):\n",
    "        self.label = n\n",
    "        self.output = None\n",
    "        \n",
    "    def getLabel(self):\n",
    "        return self.label\n",
    "    \n",
    "    # performGateLogic() will be implemented later for specific gate\n",
    "    def getOutput(self):\n",
    "        self.output = self.performGateLogic()\n",
    "        return self.output\n",
    "\n",
    "# LogicGate : BinaryGate   \n",
    "# Gate with 2 inputs\n",
    "class BinaryGate(LogicGate):\n",
    "    def __init__(self, n):\n",
    "        LogicGate.__init__(self, n)\n",
    "        self.pinA = None\n",
    "        self.pinB = None\n",
    "        \n",
    "    def getPinA(self):\n",
    "        if self.pinA == None:\n",
    "            return int(input(\"Enter Pin A for gate \" + self.getLabel() + \"--->\" ))\n",
    "        else:\n",
    "            return self.pinA.getFrom().getOutput()\n",
    "\n",
    "    def getPinB(self):\n",
    "        if self.pinB == None:\n",
    "            return int(input(\"Enter Pin B for gate \"+ self.getLabel() + \"--->\" ))\n",
    "        else:\n",
    "            return self.pinB.getFrom().getOutput()\n",
    "    \n",
    "    # source is connector object\n",
    "    def setNextPin(self, source):\n",
    "        if self.pinA==None:\n",
    "            self.pinA = source\n",
    "        else:\n",
    "            if self.pinB == None:\n",
    "                self.pinB = source\n",
    "            else:\n",
    "                raise RuntimeError(\"Error: No Empty Pins!\")\n",
    "            \n",
    "\n",
    "# LogicGate : UnaryGate   \n",
    "# Gate with 1 input\n",
    "class UnaryGate(LogicGate):\n",
    "    def __init__(self, n):\n",
    "        LogicGate.__init__(self, n)\n",
    "        self.pin = None\n",
    "        \n",
    "    def getPin(self):\n",
    "        if self.pin == None:\n",
    "            return int(input(\"Enter Pin for gate \" + self.getLabel() + \"--->\"))\n",
    "        else:\n",
    "            return self.pin.getFrom().getOutput()\n",
    "    \n",
    "    # source is a connector object\n",
    "    def setNextPin(self, source):\n",
    "        if self.pin==None:\n",
    "            self.pin = source\n",
    "        else:\n",
    "            raise RuntimeError(\"Error: No Empty Pins!\")\n",
    "            \n",
    "\n",
    "# LogicGate: BinaryGate: AndGate\n",
    "class AndGate(BinaryGate):\n",
    "    def __init__(self, n):\n",
    "        BinaryGate.__init__(self, n)\n",
    "    \n",
    "    def performGateLogic(self):\n",
    "        a = self.getPinA()\n",
    "        b = self.getPinB()\n",
    "        if a==1 and b==1:\n",
    "            return 1\n",
    "        else:\n",
    "            return 0\n",
    "\n",
    "# LogicGate: BinaryGate: OrGate\n",
    "class OrGate(BinaryGate):\n",
    "    def __init__(self, n):\n",
    "        BinaryGate.__init__(self, n)\n",
    "    \n",
    "    def performGateLogic(self):\n",
    "        a = self.getPinA()\n",
    "        b = self.getPinB()\n",
    "        if a==0 and b==0:\n",
    "            return 0\n",
    "        else:\n",
    "            return 1\n",
    "        \n",
    "\n",
    "# LogicGate: UnaryGate: NotGate\n",
    "class NotGate(UnaryGate):\n",
    "    def __init__(self, n):\n",
    "        UnaryGate.__init__(self, n)\n",
    "    \n",
    "    def performGateLogic(self):\n",
    "        a = self.getPin()\n",
    "        if a==0:\n",
    "            return 1\n",
    "        else:\n",
    "            return 0\n",
    "        \n",
    "        \n",
    "# Connector: connect output to input\n",
    "class Connector:\n",
    "    def __init__(self, fgate, tgate):\n",
    "        self.fromgate = fgate\n",
    "        self.togate = tgate\n",
    "        tgate.setNextPin(self)\n",
    "    \n",
    "    def getFrom(self):\n",
    "        return self.fromgate\n",
    "    \n",
    "    def getTo(self):\n",
    "        return self.togate\n",
    "    \n",
    "\n",
    "g1 = AndGate(\"G1\")\n",
    "g2 = AndGate(\"G2\")\n",
    "g3 = OrGate(\"G3\")\n",
    "g4 = NotGate(\"G4\")\n",
    "c1 = Connector(g1, g2)\n",
    "c2 = Connector(g2, g3)\n",
    "c3 = Connector(g3, g4)\n",
    "\n",
    "circuitOutput = g4.getOutput()\n",
    "print \"Output of circuit --->\", circuitOutput\n",
    "\n",
    "\n"
   ]
  },
  {
   "cell_type": "markdown",
   "metadata": {},
   "source": [
    "## Basic Data Structure\n",
    "    - Stack\n",
    "    - Queue\n",
    "    - Deque\n",
    "    - List\n",
    "    \n",
    "### Stack"
   ]
  },
  {
   "cell_type": "code",
   "execution_count": 156,
   "metadata": {
    "collapsed": false
   },
   "outputs": [
    {
     "name": "stdout",
     "output_type": "stream",
     "text": [
      ">> s = Stack()\n",
      ">> s.isEmpty()\n",
      "True\n",
      ">> s.push(4)\n",
      ">> s.push('dog')\n",
      ">> s.getItems()\n",
      "['dog', 4]\n",
      ">> s.peek()\n",
      "dog\n",
      ">> s.push(True)\n",
      ">> s.getItems()\n",
      "[True, 'dog', 4]\n",
      ">> s.size()\n",
      "3\n",
      ">> s.isEmpty()\n",
      "False\n",
      ">> s.push(8.4)\n",
      ">> s.getItems()\n",
      "[8.4, True, 'dog', 4]\n",
      ">> s.pop()\n",
      "8.4\n",
      ">> s.pop()\n",
      "True\n",
      ">> s.size()\n",
      "2\n",
      ">> s.getItems()\n",
      "['dog', 4]\n",
      "\n",
      "********************\n",
      "Stack application: convert decimal number to any base\n",
      ">> baseConverter(12, 2)\n",
      "1100\n",
      ">> bin(12)\n",
      "0b1100\n",
      ">> baseConverter(127, 8)\n",
      "177\n",
      ">> oct(127)\n",
      "0177\n",
      ">> baseConverter(127, 16)\n",
      "7F\n",
      ">> hex(127)\n",
      "0x7f\n",
      ">> s\n",
      "dog 4\n"
     ]
    }
   ],
   "source": [
    "class Stack:\n",
    "    def __init__(self):\n",
    "        self.items = []\n",
    "        \n",
    "    def __str__(self):\n",
    "        return \" \".join(reversed([str(item) for item in self.items]))\n",
    "    \n",
    "    def __repr__(self):\n",
    "        return \"Stack(\" + str(self) + \")\"\n",
    "    \n",
    "    def isEmpty(self):\n",
    "        return (not self.items)\n",
    "    \n",
    "    def push(self, n):\n",
    "        return self.items.append(n)\n",
    "    \n",
    "    def peek(self):\n",
    "        if self.items:\n",
    "            return self.items[-1]\n",
    "        else:\n",
    "            return None\n",
    "    \n",
    "    def pop(self):\n",
    "        return self.items.pop()\n",
    "    \n",
    "    def size(self):\n",
    "        return len(self.items)\n",
    "    \n",
    "    def getItems(self):\n",
    "        return self.items[::-1]\n",
    "    \n",
    "    \n",
    "# Stack application: convert decimal number to any base\n",
    "def baseConverter(decNum, base):\n",
    "    if base>16 or base<1:\n",
    "        raise ValueError(\"Error Base has to be between 2 and 16!\")\n",
    "    \n",
    "    digits = \"0123456789ABCDEF\"\n",
    "    baseNum = Stack()\n",
    "    while decNum>0:\n",
    "        d = decNum % base\n",
    "        baseNum.push(d)\n",
    "        decNum = decNum//base\n",
    "        \n",
    "    baseNumStr = ''\n",
    "    while not baseNum.isEmpty():\n",
    "        baseNumStr += digits[baseNum.pop()]\n",
    "    \n",
    "    return baseNumStr\n",
    "\n",
    "\n",
    "s = Stack()\n",
    "print \">> s = Stack()\"\n",
    "print \">> s.isEmpty()\\n\", s.isEmpty()\n",
    "print \">> s.push(4)\"\n",
    "s.push(4) \n",
    "print \">> s.push('dog')\"\n",
    "s.push('dog')\n",
    "print \">> s.getItems()\\n\", s.getItems()\n",
    "print \">> s.peek()\\n\", s.peek()\n",
    "print \">> s.push(True)\"\n",
    "s.push(True)\n",
    "print \">> s.getItems()\\n\", s.getItems()\n",
    "print \">> s.size()\\n\", s.size()\n",
    "print \">> s.isEmpty()\\n\", s.isEmpty()\n",
    "print \">> s.push(8.4)\"\n",
    "s.push(8.4)\n",
    "print \">> s.getItems()\\n\", s.getItems()\n",
    "print \">> s.pop()\\n\", s.pop()\n",
    "print \">> s.pop()\\n\", s.pop()\n",
    "print \">> s.size()\\n\", s.size()\n",
    "print \">> s.getItems()\\n\", s.getItems()\n",
    "\n",
    "print \"\\n********************\\nStack application: convert decimal number to any base\"  \n",
    "print \">> baseConverter(12, 2)\\n\", baseConverter(12, 2)\n",
    "print \">> bin(12)\\n\", bin(12)\n",
    "\n",
    "print \">> baseConverter(127, 8)\\n\", baseConverter(127, 8)\n",
    "print \">> oct(127)\\n\", oct(127)\n",
    "\n",
    "print \">> baseConverter(127, 16)\\n\", baseConverter(127, 16)\n",
    "print \">> hex(127)\\n\", hex(127)\n",
    "\n",
    "print \">> s\\n\", s"
   ]
  },
  {
   "cell_type": "markdown",
   "metadata": {},
   "source": [
    "#### Stack application: convert decimal number to any base"
   ]
  },
  {
   "cell_type": "code",
   "execution_count": 144,
   "metadata": {
    "collapsed": false
   },
   "outputs": [
    {
     "ename": "AttributeError",
     "evalue": "'str' object has no attribute 'append'",
     "output_type": "error",
     "traceback": [
      "\u001b[1;31m---------------------------------------------------------------------------\u001b[0m",
      "\u001b[1;31mAttributeError\u001b[0m                            Traceback (most recent call last)",
      "\u001b[1;32m<ipython-input-144-13e4f1b28d80>\u001b[0m in \u001b[0;36m<module>\u001b[1;34m()\u001b[0m\n\u001b[1;32m----> 1\u001b[1;33m \u001b[1;34m''\u001b[0m\u001b[1;33m.\u001b[0m\u001b[0mappend\u001b[0m\u001b[1;33m(\u001b[0m\u001b[1;34m'a'\u001b[0m\u001b[1;33m)\u001b[0m\u001b[1;33m\u001b[0m\u001b[0m\n\u001b[0m",
      "\u001b[1;31mAttributeError\u001b[0m: 'str' object has no attribute 'append'"
     ]
    }
   ],
   "source": []
  },
  {
   "cell_type": "code",
   "execution_count": null,
   "metadata": {
    "collapsed": true
   },
   "outputs": [],
   "source": []
  }
 ],
 "metadata": {
  "kernelspec": {
   "display_name": "Python 2",
   "language": "python",
   "name": "python2"
  },
  "language_info": {
   "codemirror_mode": {
    "name": "ipython",
    "version": 2
   },
   "file_extension": ".py",
   "mimetype": "text/x-python",
   "name": "python",
   "nbconvert_exporter": "python",
   "pygments_lexer": "ipython2",
   "version": "2.7.11"
  }
 },
 "nbformat": 4,
 "nbformat_minor": 0
}
